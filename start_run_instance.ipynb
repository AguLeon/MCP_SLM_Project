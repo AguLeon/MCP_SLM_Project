{
 "cells": [
  {
   "cell_type": "markdown",
   "metadata": {},
   "source": [
    "# Start Lease\n",
    "This notebook is adapted from \"Hello, Chameleon\" by Fraida Fund [link](https://www.chameleoncloud.org/experiment/share/a10a1b51-51d7-4c6e-ba83-010a5cf759d6)"
   ]
  },
  {
   "cell_type": "markdown",
   "metadata": {},
   "source": [
    "In this notebook, you will pick up where you left off after creating a Chameleon account, joining a Chameleon project, and preparing key pair. Now, you will learn how to:\n",
    "\n",
    "-   Reserve resources in Chameleon\n",
    "-   Access your reserved resources over SSH\n",
    "-   Execute commands on your resources\n",
    "-   Retrieving files saved on Chameleon resources\n",
    "-   Extend your Chameleon lease (in case you need more time) or delete it (in case you finish early)"
   ]
  },
  {
   "cell_type": "markdown",
   "metadata": {},
   "source": [
    "## Reserve resources\n",
    "\n",
    "Whenever you run an experiment on Chameleon, you will\n",
    "\n",
    "1.  Open a Python notebook, which includes commands to reserve and configure the resources (VMs, bare metal servers, or networks) that you need for your experiment. Run these commands.\n",
    "2.  Wait until the resources in your experiment are ready to log in.\n",
    "3.  Log in to the resources and run your experiment (either by executing commands in the notebook, or by using SSH in a terminal and running commands in those SSH sessions).\n",
    "\n",
    "Also, when you finish an experiment and have saved all the data somewhere safe, you will *delete* the resources in your experiment to free them for use by other experimenters.\n",
    "\n",
    "In this exercise, we will reserve a single virtual machine on Chameleon, and practice logging in to execute commands on this VM."
   ]
  },
  {
   "cell_type": "markdown",
   "metadata": {},
   "source": [
    "First, we will need to initialize the environment - tell it what Chameleon project to associate our experiment with.\n",
    "\n",
    "You should already be a part of a Chameleon project, which has a project ID in the form “CHI-XXXXX”. If you don’t know your project ID, you can find it by logging in to the Chameleon web portal, and checking your [dashboard](https://chameleoncloud.org/user/dashboard/). When you run the next cell, you will see a drop-down menu for selecting your project.\n",
    "\n",
    "We will also indicate which Chameleon site we want to use. Since this experiment uses a virtual machine, the site will be KVM@TACC - the only Chameleon site that supports VMs."
   ]
  },
  {
   "cell_type": "code",
   "execution_count": null,
   "metadata": {},
   "outputs": [],
   "source": [
    "import chi, os, time, datetime\n",
    "from chi import lease\n",
    "from chi import server\n",
    "from chi import context\n",
    "from chi import hardware\n",
    "from chi import network\n",
    "\n",
    "context.version = \"1.0\" \n",
    "context.choose_project()\n",
    "context.choose_site(default=\"KVM@TACC\")\n",
    "username = os.getenv('USER') # all exp resources will have this suffix"
   ]
  },
  {
   "cell_type": "markdown",
   "metadata": {},
   "source": [
    "Next, we’ll give our resource a name. Every resource in a project should have a unique name, so we will include a username, as well as a description of the experiment, in the name."
   ]
  },
  {
   "cell_type": "code",
   "execution_count": null,
   "metadata": {},
   "outputs": [],
   "source": [
    "exp_name = \"MCPWorld_AP_Project\"\n",
    "server_name = f\"{exp_name}-{username}\"\n",
    "lease_name = f\"{exp_name}-{username}\""
   ]
  },
  {
   "cell_type": "markdown",
   "metadata": {},
   "source": [
    "Now we are ready to ask Chameleon to allocate a resource to us! For a VM, we specify the “flavor” or size of the resource (in terms of CPU, memory, and storage) and the operating system image that we want to have pre-installed."
   ]
  },
  {
   "cell_type": "markdown",
   "metadata": {},
   "source": [
    "First we will reserve the VM instance for 6 hours, starting now:"
   ]
  },
  {
   "cell_type": "code",
   "execution_count": null,
   "metadata": {},
   "outputs": [],
   "source": [
    "l = lease.Lease(lease_name, duration=datetime.timedelta(hours=7 * 24 - 1))\n",
    "l.add_flavor_reservation(id=chi.server.get_flavor_id(\"m1.small\"), amount=1)\n",
    "l.submit(idempotent=True)"
   ]
  },
  {
   "cell_type": "code",
   "execution_count": null,
   "metadata": {},
   "outputs": [],
   "source": [
    "l.show()"
   ]
  },
  {
   "cell_type": "markdown",
   "metadata": {},
   "source": [
    "then we can launch it:"
   ]
  },
  {
   "cell_type": "code",
   "execution_count": null,
   "metadata": {},
   "outputs": [],
   "source": [
    "# flavor_name = \"g1.h100.pci.1\"\n",
    "flavor_name = \"m1.small\"\n",
    "image_name = \"CC-Ubuntu24.04\"\n",
    "s = server.Server(\n",
    "    name=server_name,\n",
    "    image_name=image_name,\n",
    "    flavor_name=l.get_reserved_flavors()[0].name\n",
    ")\n",
    "s.submit(idempotent=True)"
   ]
  },
  {
   "cell_type": "markdown",
   "metadata": {},
   "source": [
    "Once the resource is allocated and ready, we will associate a network address to it, so that we can log in to the resource over the Internet using the SSH protocol."
   ]
  },
  {
   "cell_type": "code",
   "execution_count": null,
   "metadata": {},
   "outputs": [],
   "source": [
    "s.associate_floating_ip()"
   ]
  },
  {
   "cell_type": "code",
   "execution_count": null,
   "metadata": {},
   "outputs": [],
   "source": [
    "reserved_fip = s.get_floating_ip()\n",
    "print(reserved_fip)"
   ]
  },
  {
   "cell_type": "markdown",
   "metadata": {},
   "source": [
    "There’s one more step before we can log in to the resource - by default, all connections to VM resources are blocked, as a security measure. We will need to add a “security group” that permits SSH connections to our project (if it does not already exist), then attach this security group to our VM resource."
   ]
  },
  {
   "cell_type": "code",
   "execution_count": null,
   "metadata": {},
   "outputs": [],
   "source": [
    "sg_list = network.list_security_groups(name_filter=\"allow-ssh\")\n",
    "if sg_list: # allow-ssh already exists\n",
    "    sg = sg_list[0]\n",
    "else:       # create allow-ssh\n",
    "    sg = network.SecurityGroup({\"name\": \"allow-ssh\", \"description\": \"Enable SSH traffic on TCP port 22\"})\n",
    "    sg.add_rule(\"ingress\", \"tcp\", 22)\n",
    "    sg.submit()\n",
    "s.add_security_group(sg.id)"
   ]
  },
  {
   "cell_type": "code",
   "execution_count": null,
   "metadata": {},
   "outputs": [],
   "source": [
    "# Add HTTP\n",
    "sg_http = network.list_security_groups(name_filter=\"allow-http\")[0]\n",
    "if sg_http:\n",
    "    s.add_security_group(sg_http.id)"
   ]
  },
  {
   "cell_type": "code",
   "execution_count": null,
   "metadata": {},
   "outputs": [],
   "source": [
    "# Extra Ports that are needed\n",
    "PORTS = [8080, 5900, 8501, 6080]\n",
    "for PORT in PORTS:\n",
    "    sg_extra_name = f\"allow-{str(PORT)}\"\n",
    "    sg_list = network.list_security_groups(name_filter=sg_extra_name)\n",
    "    if sg_list: # allow-{PORT} already exists\n",
    "        sg = sg_list[0]\n",
    "    else:       # create allow-{PORT}\n",
    "        sg = network.SecurityGroup({\"name\": sg_extra_name, \"description\": f\"Enable traffic on TCP port {str(PORT)}\"})\n",
    "        sg.add_rule(\"ingress\", \"tcp\", PORT)\n",
    "        sg.submit()\n",
    "    s.add_security_group(sg.id)"
   ]
  },
  {
   "cell_type": "markdown",
   "metadata": {},
   "source": [
    "> [!NOTE]\n",
    "> To run the demo, we can access it using port 6080 (for the VNC server), 8501 (for streamlit interface)"
   ]
  },
  {
   "cell_type": "markdown",
   "metadata": {},
   "source": [
    "That’s all we need to do to prepare a resource to log in! Run the following cell - when it returns, it means that the VM resource is ready for you to log in."
   ]
  },
  {
   "cell_type": "code",
   "execution_count": null,
   "metadata": {},
   "outputs": [],
   "source": [
    "s.check_connectivity()"
   ]
  },
  {
   "cell_type": "markdown",
   "metadata": {},
   "source": [
    "## Exercise: log in to resources and execute commands\n",
    "\n",
    "In this exercise, we’ll practice running commands on the VM resource in three ways:\n",
    "\n",
    "-   by opening an SSH session in the terminal inside this Jupyter environment, and running commands in that session,\n",
    "-   by opening an SSH session in a local terminal and running commands in that session.\n",
    "-   by using the `python-chi` Python interface to execute commands from within this Python notebook."
   ]
  },
  {
   "cell_type": "markdown",
   "metadata": {},
   "source": [
    "### Log in over SSH from Jupyter environment\n",
    "\n",
    "One of the easiest ways to log in to your VM is to open a shell inside the Jupyter environment, and log in over SSH from that shell.\n",
    "\n",
    "In the Chameleon JupyterHub environment, click File \\> New \\> Terminal. This will open another tab in the Jupyter environment, with a shell session."
   ]
  },
  {
   "cell_type": "markdown",
   "metadata": {},
   "source": [
    "Now, run this cell to get the SSH login command. Copy the output of the cell:"
   ]
  },
  {
   "cell_type": "code",
   "execution_count": null,
   "metadata": {},
   "outputs": [],
   "source": [
    "print(f\"ssh cc@{reserved_fip}\")"
   ]
  },
  {
   "cell_type": "markdown",
   "metadata": {},
   "source": [
    "then switch to your terminal shell tab, paste the SSH login command, and hit Enter."
   ]
  },
  {
   "cell_type": "markdown",
   "metadata": {},
   "source": [
    "The first time you log in to each new host, you may see a warning similar to the following:\n",
    "\n",
    "``` shell\n",
    "The authenticity of host \"129.114.26.xx (129.114.26.xx)\" cannot be established.\n",
    "ED25519 key fingerprint is SHA256:1fcbGrgLDdOeorauhz3CTyhmFqOHsrEWlu0TZ6yGoDM.\n",
    "This key is not known by any other names\n",
    "Are you sure you want to continue connecting (yes/no/[fingerprint])?\n",
    "```\n",
    "\n",
    "and you will have to type the word *yes* and hit Enter to continue."
   ]
  },
  {
   "cell_type": "markdown",
   "metadata": {},
   "source": [
    "Then, you’ll be logged in! To validate that you are logged in to the remote host, and not running commands directly in the Jupyter shell environment, run\n",
    "\n",
    "``` shell\n",
    "hostname\n",
    "```\n",
    "\n",
    "and verify that the output starts with “hello-chameleon”. (This is the hostname we assigned to our VM resource!)"
   ]
  },
  {
   "cell_type": "markdown",
   "metadata": {},
   "source": [
    "### Log in over SSH from local terminal\n",
    "\n",
    "To log in to the VM over SSH from your local terminal, you will follow a similar process:\n",
    "\n",
    "-   open the terminal application *installed on your computer*,\n",
    "-   run the cell below, which will print an SSH login command,\n",
    "-   copy this command and make any necessary modifications (if needed, as described in the following cell),\n",
    "-   paste it into your terminal and hit Enter.\n",
    "\n",
    "In this case, you will specify the key location as part of the SSH command. These instructions assume that, as described in the previous steps, you have created a key pair named `id_rsa_chameleon`, put it in the default `.ssh` subdirectory in your home directory, and uploaded it to the KVM@TACC web interface."
   ]
  },
  {
   "cell_type": "code",
   "execution_count": null,
   "metadata": {},
   "outputs": [],
   "source": [
    "print(f\"ssh -i ~/.ssh/id_rsa_chameleon cc@{reserved_fip}\")"
   ]
  },
  {
   "cell_type": "markdown",
   "metadata": {},
   "source": [
    "If your Chameleon key is in a different location, or has a different name, then you may need to modify the `~/.ssh/id_rsa_chameleon` part of this command to point to *your* key."
   ]
  },
  {
   "cell_type": "markdown",
   "metadata": {},
   "source": [
    "The first time you log in to each new host, your computer may display a warning similar to the following:\n",
    "\n",
    "``` shell\n",
    "The authenticity of host \"129.114.26.xx (129.114.26.xx)\" cannot be established.\n",
    "ED25519 key fingerprint is SHA256:1fcbGrgLDdOeorauhz3CTyhmFqOHsrEWlu0TZ6yGoDM.\n",
    "This key is not known by any other names\n",
    "Are you sure you want to continue connecting (yes/no/[fingerprint])?\n",
    "```\n",
    "\n",
    "and you will have to type the word *yes* and hit Enter to continue.\n",
    "\n",
    "If you have specified your key path and other details correctly, it won’t ask you for a password when you log in to the resource. (It may ask for the passphrase for your private key if you’ve set one.)"
   ]
  },
  {
   "cell_type": "markdown",
   "metadata": {},
   "source": [
    "Let’s practice running a command in this remote session. Copy and paste the following command into the SSH terminal, to create a file and populate it with a “hello” message:\n",
    "\n",
    "``` shell\n",
    "echo \"Hello from $(hostname)\" > hello.txt\n",
    "```\n",
    "\n",
    "then check the file contents:\n",
    "\n",
    "``` shell\n",
    "cat hello.txt\n",
    "```\n",
    "\n",
    "Now we will use this file “hello.txt” in a later exercise, when we want to practice transferring files between the remote host and our own laptop!"
   ]
  },
  {
   "cell_type": "markdown",
   "metadata": {},
   "source": [
    "### Using `python-chi` to execute commands on the remote host"
   ]
  },
  {
   "cell_type": "markdown",
   "metadata": {},
   "source": [
    "Finally, it’s useful to know that we can also execute commands over SSH on the remote instance, directly from a Python notebook! The following cell shows an example, where we run the `hostname` command using the `python-chi` library:"
   ]
  },
  {
   "cell_type": "code",
   "execution_count": null,
   "metadata": {},
   "outputs": [],
   "source": [
    "s.execute(f\"hostname\") "
   ]
  },
  {
   "cell_type": "markdown",
   "metadata": {},
   "source": [
    "# Install Docker"
   ]
  },
  {
   "cell_type": "code",
   "execution_count": null,
   "metadata": {},
   "outputs": [],
   "source": [
    "s.execute(\"curl -sSL https://get.docker.com/ | sudo sh\")\n",
    "s.execute(\"sudo groupadd -f docker; sudo usermod -aG docker $USER\")\n",
    "s.execute(\"docker run hello-world\")"
   ]
  },
  {
   "cell_type": "markdown",
   "metadata": {},
   "source": [
    "### Installing NVIDIA container toolkit (For future testing purpose)"
   ]
  },
  {
   "cell_type": "code",
   "execution_count": null,
   "metadata": {},
   "outputs": [],
   "source": [
    "# get NVIDIA container toolkit \n",
    "s.execute(\"curl -fsSL https://nvidia.github.io/libnvidia-container/gpgkey | sudo gpg --dearmor -o /usr/share/keyrings/nvidia-container-toolkit-keyring.gpg \\\n",
    "  && curl -s -L https://nvidia.github.io/libnvidia-container/stable/deb/nvidia-container-toolkit.list | \\\n",
    "    sed 's#deb https://#deb [signed-by=/usr/share/keyrings/nvidia-container-toolkit-keyring.gpg] https://#g' | \\\n",
    "    sudo tee /etc/apt/sources.list.d/nvidia-container-toolkit.list\")\n",
    "s.execute(\"sudo apt update\")\n",
    "s.execute(\"sudo apt-get install -y nvidia-container-toolkit\")\n",
    "s.execute(\"sudo nvidia-ctk runtime configure --runtime=docker\")\n",
    "s.execute(\"sudo systemctl restart docker\")"
   ]
  },
  {
   "cell_type": "code",
   "execution_count": null,
   "metadata": {},
   "outputs": [],
   "source": [
    "s.execute(\"docker run --rm --gpus all ubuntu nvidia-smi\")"
   ]
  },
  {
   "cell_type": "markdown",
   "metadata": {},
   "source": [
    "# Clone the Git Repository"
   ]
  },
  {
   "cell_type": "code",
   "execution_count": null,
   "metadata": {},
   "outputs": [],
   "source": [
    "s.execute(\"git clone https://github.com/AguLeon/MCPWorld\")"
   ]
  },
  {
   "cell_type": "markdown",
   "metadata": {},
   "source": [
    "## Run a sample demo (from already prepared docker image)"
   ]
  },
  {
   "cell_type": "markdown",
   "metadata": {},
   "source": [
    "Requirements: An Anthropic API Key\n",
    "\n",
    "To run the docker image, run the following commands"
   ]
  },
  {
   "cell_type": "code",
   "execution_count": null,
   "metadata": {},
   "outputs": [],
   "source": [
    "# Anthropic API KEY\n",
    "ANTHROPIC_API_KEY = \"your_anthropic_api_key\"\n",
    "s.execute(f\"\"\"\n",
    "            docker run \\\n",
    "            -e ANTHROPIC_API_KEY={ANTHROPIC_API_KEY} \\\n",
    "            -v $HOME/.anthropic:/home/computeruse/.anthropic \\\n",
    "            --network host \\\n",
    "            -it ghcr.io/anthropics/anthropic-quickstarts:computer-use-demo-latest\n",
    "\"\"\")"
   ]
  },
  {
   "cell_type": "markdown",
   "metadata": {},
   "source": [
    "You can access the streamlit interface through port 8051, the desktop view through 6080"
   ]
  },
  {
   "cell_type": "markdown",
   "metadata": {},
   "source": [
    "## Demo Test\n",
    "\n",
    "You can now open the streamlit interface by going to \n",
    "`http://A.B.C.D:8051` \n",
    "You can enter prompts through this interface that will be executed in the virtual desktop. \n",
    "\n",
    "You see the virtual desktop by going to \n",
    "`http://A.B.C.D:6080`\n",
    "\n",
    "\n",
    "### Example Prompt\n",
    "By writing a prompt like \"Open Firefox and go to wikipedia\" in the streamlit interface, you can see the actions in the virtual desktop. It will also show all the request and responses that was sent to and from the LLM (currently Claude Sonnet)\n"
   ]
  },
  {
   "cell_type": "markdown",
   "metadata": {},
   "source": [
    "## Exercise: delete resources\n",
    "\n",
    "Chameleon is a shared facility, and it is important to be mindful of your resource usage and to “free” resources for use by other experimenters when you are finished with them. Your resource will be deleted automatically at the end of your lease, but if you finish sooner, you should delete the compute instance and the lease.\n",
    "\n",
    "In the cell below, uncomment both lines of code, then run the cell to free\n",
    "\n",
    "-   the VM and the network address you attached to it.\n",
    "-   and the reservation.\n",
    "\n",
    "Note that removing the resources will revoke your access to them, and all the information stored on them will be erased. Therefore, ensure that you have saved all your work before deleting the resources."
   ]
  },
  {
   "cell_type": "code",
   "execution_count": null,
   "metadata": {},
   "outputs": [],
   "source": [
    "# s.delete()\n",
    "# l.delete()"
   ]
  },
  {
   "cell_type": "markdown",
   "metadata": {},
   "source": [
    "Alternatively, you can delete your instance using the GUI:\n",
    "\n",
    "-   From the [Chameleon website](https://chameleoncloud.org/), click on “Experiment \\> KVM@TACC” in the menu (since that is the site that our instance is on).\n",
    "-   Select “Instances” from the menu on the left side.\n",
    "-   Find your instance in the list. If the project that you are part of has many instances, you can filter by name to make it easier to find yours: change the filter criteria to “Instance Name”, put part of your instance name in the text input field, and click “Filter”.\n",
    "-   Check the box next to *your* instance (make sure not to select someone else’s!)\n",
    "-   and press the red “Delete Instances” button.\n",
    "\n",
    "and you can similarly delete a lease using the GUI:\n",
    "\n",
    "-   Select “Leases” from the menu on the left side.\n",
    "-   Find your lease in the list.\n",
    "-   Check the box next to *your* lease (make sure not to select someone else’s!)\n",
    "-   and press the red “Delete Lease” button."
   ]
  }
 ],
 "metadata": {
  "kernelspec": {
   "display_name": "Python 3",
   "name": "python"
  }
 },
 "nbformat": 4,
 "nbformat_minor": 0
}
